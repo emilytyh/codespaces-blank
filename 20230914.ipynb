{
 "cells": [
  {
   "cell_type": "markdown",
   "metadata": {},
   "source": [
    "# 第一個Python程式\n",
    "\n",
    "# 函數f(x)\n",
    "\n",
    "# 字串可以用單引號雙引號\n",
    "\n",
    "# Linux shell ls (list)\n",
    "# ls -a, ls -all, cd (change directory)\n",
    "# 網頁的核心元件JavaScript，希望在寒假自學\n",
    "# 資訊業的職場:Github和Git、Chatgpt、資料庫(MSSQL)\n",
    "# 雲端服務:除了以上，還要學一些Linux和容器Docker"
   ]
  },
  {
   "cell_type": "markdown",
   "metadata": {},
   "source": []
  },
  {
   "cell_type": "code",
   "execution_count": 2,
   "metadata": {},
   "outputs": [
    {
     "name": "stdout",
     "output_type": "stream",
     "text": [
      "Hello World!\n"
     ]
    }
   ],
   "source": [
    "print('Hello World!')"
   ]
  },
  {
   "cell_type": "markdown",
   "metadata": {},
   "source": [
    "# 使用Chatgpt幫助養程式思維"
   ]
  },
  {
   "cell_type": "markdown",
   "metadata": {},
   "source": [
    "# 變數的概念\n",
    "# x=3 宣告一個變數為x，然後將3指定給x、"
   ]
  },
  {
   "cell_type": "code",
   "execution_count": null,
   "metadata": {},
   "outputs": [],
   "source": [
    "# Step 1: 指定变量 var1 的值是 10。\n",
    "var1 = 10\n",
    "\n",
    "# Step 2: 指定变量 var2 的值是 5。\n",
    "var2 = 5\n",
    "\n",
    "# Step 3: 计算 var1 加 var2 后，储存至 var3。\n",
    "var3 = var1 + var2\n",
    "\n",
    "# Step 4: 输出文字内容 \"相加结果=\" 和变量 var3 的值。\n",
    "print(\"相加结果 =\", var3)"
   ]
  }
 ],
 "metadata": {
  "kernelspec": {
   "display_name": "Python 3",
   "language": "python",
   "name": "python3"
  },
  "language_info": {
   "codemirror_mode": {
    "name": "ipython",
    "version": 3
   },
   "file_extension": ".py",
   "mimetype": "text/x-python",
   "name": "python",
   "nbconvert_exporter": "python",
   "pygments_lexer": "ipython3",
   "version": "3.10.8"
  },
  "orig_nbformat": 4
 },
 "nbformat": 4,
 "nbformat_minor": 2
}
